{
  "nbformat": 4,
  "nbformat_minor": 0,
  "metadata": {
    "colab": {
      "name": "HW5.ipynb",
      "provenance": [],
      "collapsed_sections": [],
      "authorship_tag": "ABX9TyMlXQNAN5NGMcTNkATd0r9x",
      "include_colab_link": true
    },
    "kernelspec": {
      "name": "python3",
      "display_name": "Python 3"
    },
    "accelerator": "GPU"
  },
  "cells": [
    {
      "cell_type": "markdown",
      "metadata": {
        "id": "view-in-github",
        "colab_type": "text"
      },
      "source": [
        "<a href=\"https://colab.research.google.com/github/Yfyangd/BMIR/blob/master/Homework5.ipynb\" target=\"_parent\"><img src=\"https://colab.research.google.com/assets/colab-badge.svg\" alt=\"Open In Colab\"/></a>"
      ]
    },
    {
      "cell_type": "markdown",
      "metadata": {
        "id": "0pSoJyu4wBQh",
        "colab_type": "text"
      },
      "source": [
        "# Deep learning in medical image analysis_homework_5\n",
        "s108003817 楊元福"
      ]
    },
    {
      "cell_type": "markdown",
      "metadata": {
        "id": "zA_EXG5BaYAP",
        "colab_type": "text"
      },
      "source": [
        "## Import Library & DataSet"
      ]
    },
    {
      "cell_type": "code",
      "metadata": {
        "id": "QXVKnkYsadWg",
        "colab_type": "code",
        "colab": {
          "base_uri": "https://localhost:8080/",
          "height": 151
        },
        "outputId": "f6607ab8-3a68-4302-d30e-d70f918f97ae"
      },
      "source": [
        "# Import Tensorflow & Keras\n",
        "import tensorflow as tf\n",
        "from tensorflow import keras\n",
        "from tensorflow.keras import datasets, layers, models\n",
        "\n",
        "# Helper libraries\n",
        "import numpy as np\n",
        "import matplotlib.pyplot as plt\n",
        "\n",
        "# Import Fashion_MNIST\n",
        "fashion_mnist = keras.datasets.fashion_mnist\n",
        "(train_images, train_labels), (test_images, test_labels) = fashion_mnist.load_data()\n",
        "\n",
        "# Normalize pixel values to be between 0 and 1\n",
        "train_images, test_images = train_images / 255.0, test_images / 255.0"
      ],
      "execution_count": 6,
      "outputs": [
        {
          "output_type": "stream",
          "text": [
            "Downloading data from https://storage.googleapis.com/tensorflow/tf-keras-datasets/train-labels-idx1-ubyte.gz\n",
            "32768/29515 [=================================] - 0s 0us/step\n",
            "Downloading data from https://storage.googleapis.com/tensorflow/tf-keras-datasets/train-images-idx3-ubyte.gz\n",
            "26427392/26421880 [==============================] - 0s 0us/step\n",
            "Downloading data from https://storage.googleapis.com/tensorflow/tf-keras-datasets/t10k-labels-idx1-ubyte.gz\n",
            "8192/5148 [===============================================] - 0s 0us/step\n",
            "Downloading data from https://storage.googleapis.com/tensorflow/tf-keras-datasets/t10k-images-idx3-ubyte.gz\n",
            "4423680/4422102 [==============================] - 0s 0us/step\n"
          ],
          "name": "stdout"
        }
      ]
    },
    {
      "cell_type": "markdown",
      "metadata": {
        "id": "DB2lMAX2apNU",
        "colab_type": "text"
      },
      "source": [
        "## 1. Fully connected network with two optimizers of SGD and Nadam"
      ]
    },
    {
      "cell_type": "code",
      "metadata": {
        "id": "dw1_VFF-bInj",
        "colab_type": "code",
        "colab": {}
      },
      "source": [
        "model_FCN = keras.Sequential([\n",
        "    keras.layers.Flatten(input_shape=(28, 28)),\n",
        "    keras.layers.Dense(128, activation='relu'),\n",
        "    keras.layers.Dense(10)\n",
        "])"
      ],
      "execution_count": 0,
      "outputs": []
    },
    {
      "cell_type": "markdown",
      "metadata": {
        "id": "db23M-Eigf7K",
        "colab_type": "text"
      },
      "source": [
        "### 1.1 Training with SGD"
      ]
    },
    {
      "cell_type": "code",
      "metadata": {
        "id": "4V7c7PG6grST",
        "colab_type": "code",
        "colab": {
          "base_uri": "https://localhost:8080/",
          "height": 689
        },
        "outputId": "a9292815-1b23-4bfe-c4aa-3c3af4ba3cda"
      },
      "source": [
        "model_FCN.compile(optimizer='SGD',\n",
        "              loss=tf.keras.losses.SparseCategoricalCrossentropy(from_logits=True),\n",
        "              metrics=['accuracy'])\n",
        "\n",
        "history_SGD = model_FCN.fit(train_images, train_labels, epochs=20, validation_split=0.25)"
      ],
      "execution_count": 37,
      "outputs": [
        {
          "output_type": "stream",
          "text": [
            "Epoch 1/20\n",
            "1407/1407 [==============================] - 4s 3ms/step - loss: 0.8125 - accuracy: 0.7415 - val_loss: 0.6046 - val_accuracy: 0.7921\n",
            "Epoch 2/20\n",
            "1407/1407 [==============================] - 3s 2ms/step - loss: 0.5444 - accuracy: 0.8173 - val_loss: 0.5324 - val_accuracy: 0.8141\n",
            "Epoch 3/20\n",
            "1407/1407 [==============================] - 3s 2ms/step - loss: 0.4929 - accuracy: 0.8316 - val_loss: 0.4889 - val_accuracy: 0.8307\n",
            "Epoch 4/20\n",
            "1407/1407 [==============================] - 3s 2ms/step - loss: 0.4643 - accuracy: 0.8401 - val_loss: 0.4700 - val_accuracy: 0.8389\n",
            "Epoch 5/20\n",
            "1407/1407 [==============================] - 4s 3ms/step - loss: 0.4467 - accuracy: 0.8464 - val_loss: 0.4564 - val_accuracy: 0.8402\n",
            "Epoch 6/20\n",
            "1407/1407 [==============================] - 3s 2ms/step - loss: 0.4307 - accuracy: 0.8520 - val_loss: 0.4445 - val_accuracy: 0.8431\n",
            "Epoch 7/20\n",
            "1407/1407 [==============================] - 3s 2ms/step - loss: 0.4201 - accuracy: 0.8559 - val_loss: 0.4684 - val_accuracy: 0.8321\n",
            "Epoch 8/20\n",
            "1407/1407 [==============================] - 4s 3ms/step - loss: 0.4093 - accuracy: 0.8585 - val_loss: 0.4214 - val_accuracy: 0.8534\n",
            "Epoch 9/20\n",
            "1407/1407 [==============================] - 3s 2ms/step - loss: 0.4001 - accuracy: 0.8627 - val_loss: 0.4181 - val_accuracy: 0.8576\n",
            "Epoch 10/20\n",
            "1407/1407 [==============================] - 3s 2ms/step - loss: 0.3915 - accuracy: 0.8647 - val_loss: 0.4104 - val_accuracy: 0.8585\n",
            "Epoch 11/20\n",
            "1407/1407 [==============================] - 3s 2ms/step - loss: 0.3839 - accuracy: 0.8681 - val_loss: 0.4111 - val_accuracy: 0.8561\n",
            "Epoch 12/20\n",
            "1407/1407 [==============================] - 3s 2ms/step - loss: 0.3779 - accuracy: 0.8689 - val_loss: 0.4423 - val_accuracy: 0.8463\n",
            "Epoch 13/20\n",
            "1407/1407 [==============================] - 3s 2ms/step - loss: 0.3717 - accuracy: 0.8715 - val_loss: 0.4347 - val_accuracy: 0.8486\n",
            "Epoch 14/20\n",
            "1407/1407 [==============================] - 3s 2ms/step - loss: 0.3664 - accuracy: 0.8730 - val_loss: 0.3998 - val_accuracy: 0.8615\n",
            "Epoch 15/20\n",
            "1407/1407 [==============================] - 4s 3ms/step - loss: 0.3595 - accuracy: 0.8742 - val_loss: 0.3865 - val_accuracy: 0.8661\n",
            "Epoch 16/20\n",
            "1407/1407 [==============================] - 3s 2ms/step - loss: 0.3555 - accuracy: 0.8760 - val_loss: 0.4184 - val_accuracy: 0.8495\n",
            "Epoch 17/20\n",
            "1407/1407 [==============================] - 3s 2ms/step - loss: 0.3505 - accuracy: 0.8773 - val_loss: 0.3864 - val_accuracy: 0.8651\n",
            "Epoch 18/20\n",
            "1407/1407 [==============================] - 3s 2ms/step - loss: 0.3457 - accuracy: 0.8803 - val_loss: 0.3868 - val_accuracy: 0.8647\n",
            "Epoch 19/20\n",
            "1407/1407 [==============================] - 3s 2ms/step - loss: 0.3414 - accuracy: 0.8808 - val_loss: 0.3794 - val_accuracy: 0.8679\n",
            "Epoch 20/20\n",
            "1407/1407 [==============================] - 4s 3ms/step - loss: 0.3377 - accuracy: 0.8811 - val_loss: 0.3779 - val_accuracy: 0.8685\n"
          ],
          "name": "stdout"
        }
      ]
    },
    {
      "cell_type": "code",
      "metadata": {
        "id": "RJ5jgfWKmsHF",
        "colab_type": "code",
        "colab": {
          "base_uri": "https://localhost:8080/",
          "height": 34
        },
        "outputId": "6668c7cd-2bc9-43c8-db66-56ab91389ee7"
      },
      "source": [
        "test_loss_FCN_SGD, test_acc_FCN_SGD = model_FCN.evaluate(test_images,  test_labels, verbose=2)"
      ],
      "execution_count": 38,
      "outputs": [
        {
          "output_type": "stream",
          "text": [
            "313/313 - 1s - loss: 0.4060 - accuracy: 0.8585\n"
          ],
          "name": "stdout"
        }
      ]
    },
    {
      "cell_type": "markdown",
      "metadata": {
        "id": "q2EWQK4Rk37f",
        "colab_type": "text"
      },
      "source": [
        "### 1.2 Training with Nadam"
      ]
    },
    {
      "cell_type": "code",
      "metadata": {
        "id": "aVs-Q1QBh24z",
        "colab_type": "code",
        "colab": {
          "base_uri": "https://localhost:8080/",
          "height": 689
        },
        "outputId": "53b00de5-862a-4f12-a5fb-b373299a4f9b"
      },
      "source": [
        "model_FCN.compile(optimizer='Nadam',\n",
        "              loss=tf.keras.losses.SparseCategoricalCrossentropy(from_logits=True),\n",
        "              metrics=['accuracy'])\n",
        "\n",
        "history_Nadam = model_FCN.fit(train_images, train_labels, epochs=20, validation_split=0.25)"
      ],
      "execution_count": 39,
      "outputs": [
        {
          "output_type": "stream",
          "text": [
            "Epoch 1/20\n",
            "1407/1407 [==============================] - 5s 3ms/step - loss: 0.3879 - accuracy: 0.8636 - val_loss: 0.4325 - val_accuracy: 0.8495\n",
            "Epoch 2/20\n",
            "1407/1407 [==============================] - 4s 3ms/step - loss: 0.3443 - accuracy: 0.8769 - val_loss: 0.3794 - val_accuracy: 0.8699\n",
            "Epoch 3/20\n",
            "1407/1407 [==============================] - 4s 3ms/step - loss: 0.3167 - accuracy: 0.8849 - val_loss: 0.3654 - val_accuracy: 0.8674\n",
            "Epoch 4/20\n",
            "1407/1407 [==============================] - 4s 3ms/step - loss: 0.2988 - accuracy: 0.8919 - val_loss: 0.3605 - val_accuracy: 0.8711\n",
            "Epoch 5/20\n",
            "1407/1407 [==============================] - 4s 3ms/step - loss: 0.2832 - accuracy: 0.8963 - val_loss: 0.3547 - val_accuracy: 0.8731\n",
            "Epoch 6/20\n",
            "1407/1407 [==============================] - 4s 3ms/step - loss: 0.2678 - accuracy: 0.8997 - val_loss: 0.3385 - val_accuracy: 0.8791\n",
            "Epoch 7/20\n",
            "1407/1407 [==============================] - 4s 3ms/step - loss: 0.2579 - accuracy: 0.9043 - val_loss: 0.3596 - val_accuracy: 0.8752\n",
            "Epoch 8/20\n",
            "1407/1407 [==============================] - 4s 3ms/step - loss: 0.2473 - accuracy: 0.9088 - val_loss: 0.3199 - val_accuracy: 0.8846\n",
            "Epoch 9/20\n",
            "1407/1407 [==============================] - 5s 3ms/step - loss: 0.2378 - accuracy: 0.9127 - val_loss: 0.3242 - val_accuracy: 0.8856\n",
            "Epoch 10/20\n",
            "1407/1407 [==============================] - 5s 3ms/step - loss: 0.2289 - accuracy: 0.9146 - val_loss: 0.3179 - val_accuracy: 0.8876\n",
            "Epoch 11/20\n",
            "1407/1407 [==============================] - 4s 3ms/step - loss: 0.2222 - accuracy: 0.9158 - val_loss: 0.3312 - val_accuracy: 0.8840\n",
            "Epoch 12/20\n",
            "1407/1407 [==============================] - 4s 3ms/step - loss: 0.2131 - accuracy: 0.9203 - val_loss: 0.3414 - val_accuracy: 0.8825\n",
            "Epoch 13/20\n",
            "1407/1407 [==============================] - 4s 3ms/step - loss: 0.2078 - accuracy: 0.9217 - val_loss: 0.3390 - val_accuracy: 0.8821\n",
            "Epoch 14/20\n",
            "1407/1407 [==============================] - 4s 3ms/step - loss: 0.2001 - accuracy: 0.9262 - val_loss: 0.3473 - val_accuracy: 0.8811\n",
            "Epoch 15/20\n",
            "1407/1407 [==============================] - 4s 3ms/step - loss: 0.1954 - accuracy: 0.9266 - val_loss: 0.3256 - val_accuracy: 0.8894\n",
            "Epoch 16/20\n",
            "1407/1407 [==============================] - 4s 3ms/step - loss: 0.1888 - accuracy: 0.9294 - val_loss: 0.3452 - val_accuracy: 0.8873\n",
            "Epoch 17/20\n",
            "1407/1407 [==============================] - 4s 3ms/step - loss: 0.1830 - accuracy: 0.9321 - val_loss: 0.3347 - val_accuracy: 0.8875\n",
            "Epoch 18/20\n",
            "1407/1407 [==============================] - 4s 3ms/step - loss: 0.1778 - accuracy: 0.9328 - val_loss: 0.3463 - val_accuracy: 0.8883\n",
            "Epoch 19/20\n",
            "1407/1407 [==============================] - 5s 3ms/step - loss: 0.1713 - accuracy: 0.9360 - val_loss: 0.3429 - val_accuracy: 0.8885\n",
            "Epoch 20/20\n",
            "1407/1407 [==============================] - 5s 3ms/step - loss: 0.1687 - accuracy: 0.9369 - val_loss: 0.3517 - val_accuracy: 0.8893\n"
          ],
          "name": "stdout"
        }
      ]
    },
    {
      "cell_type": "code",
      "metadata": {
        "id": "BrmOygSEm5RY",
        "colab_type": "code",
        "colab": {
          "base_uri": "https://localhost:8080/",
          "height": 34
        },
        "outputId": "2fb4808a-ee8c-42dc-8636-e150d88c8685"
      },
      "source": [
        "test_loss_FCN_Nadam, test_acc_FCN_Nadam = model_FCN.evaluate(test_images,  test_labels, verbose=2)"
      ],
      "execution_count": 40,
      "outputs": [
        {
          "output_type": "stream",
          "text": [
            "313/313 - 1s - loss: 0.3844 - accuracy: 0.8798\n"
          ],
          "name": "stdout"
        }
      ]
    },
    {
      "cell_type": "markdown",
      "metadata": {
        "id": "wJ4lqoPZlRPy",
        "colab_type": "text"
      },
      "source": [
        "### 1.3 Performance Compare with SGD & Nadam"
      ]
    },
    {
      "cell_type": "code",
      "metadata": {
        "id": "M2nWRC8fnael",
        "colab_type": "code",
        "colab": {
          "base_uri": "https://localhost:8080/",
          "height": 84
        },
        "outputId": "a0ec1fe2-28ed-47d7-8147-e083b66534ec"
      },
      "source": [
        "print('\\nTest accuracy of SGD:', test_acc_FCN_SGD)\n",
        "print('\\nTest accuracy of Nadam:', test_acc_FCN_Nadam)"
      ],
      "execution_count": 49,
      "outputs": [
        {
          "output_type": "stream",
          "text": [
            "\n",
            "Test accuracy of SGD: 0.8585000038146973\n",
            "\n",
            "Test accuracy of Nadam: 0.879800021648407\n"
          ],
          "name": "stdout"
        }
      ]
    },
    {
      "cell_type": "code",
      "metadata": {
        "id": "aT22brxTt9TT",
        "colab_type": "code",
        "colab": {
          "base_uri": "https://localhost:8080/",
          "height": 523
        },
        "outputId": "2239ccdf-f165-4fd4-96fb-733a26a37ae2"
      },
      "source": [
        "plt.style.use('seaborn')\n",
        "plt.figure(figsize = (16,8))\n",
        "plt.plot(history_SGD.history['val_accuracy'])\n",
        "plt.plot(history_Nadam.history['val_accuracy'])\n",
        "plt.title('Accuracy Compare with SGD & Nadam',fontsize=20)\n",
        "plt.ylabel('Loss',fontsize=16)\n",
        "plt.xlabel('Epoch',fontsize=16)\n",
        "plt.legend(['Validation_accuracy_SGD','Validation_accuracy_Nadam'], loc='lower right',fontsize=16)\n",
        "plt.show()"
      ],
      "execution_count": 67,
      "outputs": [
        {
          "output_type": "display_data",
          "data": {
            "image/png": "[encoded data removed]",
            "text/plain": [
              "<Figure size 1152x576 with 1 Axes>"
            ]
          },
          "metadata": {
            "tags": []
          }
        }
      ]
    },
    {
      "cell_type": "markdown",
      "metadata": {
        "id": "wam-TF0npu4_",
        "colab_type": "text"
      },
      "source": [
        "## 結論: Fully connection network training with SGD & Nadam\n",
        "由上圖得知在訓練Fully connection newwork, 採用Nesterov Accelerated Gradient(Nadam) 比起 Stochastic Gradient Descent(SGD), 在收斂方面更具有優勢:\n",
        "* Nadam 在一開始時的準確度就比SGD來的高 (0.89 vs 0.87), \n",
        "* 在經過20 Epoch訓練之後, Nadam的準確度也比SGD來的高 (0.35 vs 0.37)\n",
        "* 最終的測試準確度, Nadam也比SGD來的高 (**0.8798** vs **0.8585**)"
      ]
    },
    {
      "cell_type": "markdown",
      "metadata": {
        "id": "5QGIH-vBrn8b",
        "colab_type": "text"
      },
      "source": [
        "## 2. CNN with two optimizers of SGD and Nadam\n",
        "I used **LeNet** as my test CNN model."
      ]
    },
    {
      "cell_type": "code",
      "metadata": {
        "id": "5P54uM7frSTE",
        "colab_type": "code",
        "colab": {}
      },
      "source": [
        "model_CNN = keras.Sequential()\n",
        "model_CNN.add(layers.Conv2D(filters=6, kernel_size=(3, 3), activation='relu', input_shape=(28,28,1)))\n",
        "model_CNN.add(layers.AveragePooling2D())\n",
        "model_CNN.add(layers.Conv2D(filters=16, kernel_size=(3, 3), activation='relu'))\n",
        "model_CNN.add(layers.AveragePooling2D())\n",
        "model_CNN.add(layers.Flatten())\n",
        "model_CNN.add(layers.Dense(units=128, activation='relu'))\n",
        "model_CNN.add(layers.Dense(units=64, activation='relu'))\n",
        "model_CNN.add(layers.Dense(units=10, activation = 'softmax'))"
      ],
      "execution_count": 0,
      "outputs": []
    },
    {
      "cell_type": "code",
      "metadata": {
        "id": "CSX8GYhwsWNv",
        "colab_type": "code",
        "colab": {}
      },
      "source": [
        "fashion_mnist = keras.datasets.fashion_mnist\n",
        "(train_images, train_labels), (test_images, test_labels) = fashion_mnist.load_data()\n",
        "class_names = ['T-shirt/top', 'Trouser', 'Pullover', 'Dress', 'Coat','Sandal', 'Shirt', 'Sneaker', 'Bag', 'Ankle boot']\n",
        "train_images = train_images.astype('float32') / 255\n",
        "train_images = train_images.reshape(train_images.shape[0], 28, 28, 1)\n",
        "test_images = test_images.astype('float32') / 255\n",
        "test_images = test_images.reshape(test_images.shape[0], 28, 28, 1)\n",
        "train_labels = train_labels.reshape(train_labels.shape[0], 1)\n",
        "test_labels = test_labels.reshape(test_labels.shape[0], 1)"
      ],
      "execution_count": 0,
      "outputs": []
    },
    {
      "cell_type": "markdown",
      "metadata": {
        "id": "2-snopd8r3sF",
        "colab_type": "text"
      },
      "source": [
        "### 2.1 Training with SGD"
      ]
    },
    {
      "cell_type": "code",
      "metadata": {
        "id": "J_q4wEp3r1BN",
        "colab_type": "code",
        "colab": {
          "base_uri": "https://localhost:8080/",
          "height": 689
        },
        "outputId": "03647bed-a95e-41e6-e244-c8c7a828dd34"
      },
      "source": [
        "model_CNN.compile(optimizer='SGD',\n",
        "              loss=tf.keras.losses.SparseCategoricalCrossentropy(from_logits=True),\n",
        "              metrics=['accuracy'])\n",
        "\n",
        "history_SGD_CNN = model_CNN.fit(train_images, train_labels, epochs=20, validation_split=0.25)"
      ],
      "execution_count": 53,
      "outputs": [
        {
          "output_type": "stream",
          "text": [
            "Epoch 1/20\n",
            "1407/1407 [==============================] - 5s 4ms/step - loss: 2.2970 - accuracy: 0.2149 - val_loss: 2.2849 - val_accuracy: 0.2135\n",
            "Epoch 2/20\n",
            "1407/1407 [==============================] - 4s 3ms/step - loss: 2.0515 - accuracy: 0.4438 - val_loss: 1.8271 - val_accuracy: 0.6528\n",
            "Epoch 3/20\n",
            "1407/1407 [==============================] - 4s 3ms/step - loss: 1.7928 - accuracy: 0.6806 - val_loss: 1.7542 - val_accuracy: 0.7193\n",
            "Epoch 4/20\n",
            "1407/1407 [==============================] - 5s 3ms/step - loss: 1.7455 - accuracy: 0.7255 - val_loss: 1.7372 - val_accuracy: 0.7287\n",
            "Epoch 5/20\n",
            "1407/1407 [==============================] - 4s 3ms/step - loss: 1.7308 - accuracy: 0.7361 - val_loss: 1.7222 - val_accuracy: 0.7425\n",
            "Epoch 6/20\n",
            "1407/1407 [==============================] - 5s 3ms/step - loss: 1.7221 - accuracy: 0.7428 - val_loss: 1.7054 - val_accuracy: 0.7572\n",
            "Epoch 7/20\n",
            "1407/1407 [==============================] - 4s 3ms/step - loss: 1.7132 - accuracy: 0.7520 - val_loss: 1.6996 - val_accuracy: 0.7639\n",
            "Epoch 8/20\n",
            "1407/1407 [==============================] - 5s 3ms/step - loss: 1.7053 - accuracy: 0.7592 - val_loss: 1.7322 - val_accuracy: 0.7299\n",
            "Epoch 9/20\n",
            "1407/1407 [==============================] - 4s 3ms/step - loss: 1.6994 - accuracy: 0.7633 - val_loss: 1.7193 - val_accuracy: 0.7434\n",
            "Epoch 10/20\n",
            "1407/1407 [==============================] - 4s 3ms/step - loss: 1.6933 - accuracy: 0.7707 - val_loss: 1.6869 - val_accuracy: 0.7799\n",
            "Epoch 11/20\n",
            "1407/1407 [==============================] - 4s 3ms/step - loss: 1.6877 - accuracy: 0.7763 - val_loss: 1.6937 - val_accuracy: 0.7702\n",
            "Epoch 12/20\n",
            "1407/1407 [==============================] - 4s 3ms/step - loss: 1.6805 - accuracy: 0.7843 - val_loss: 1.7424 - val_accuracy: 0.7207\n",
            "Epoch 13/20\n",
            "1407/1407 [==============================] - 4s 3ms/step - loss: 1.6771 - accuracy: 0.7860 - val_loss: 1.6645 - val_accuracy: 0.7995\n",
            "Epoch 14/20\n",
            "1407/1407 [==============================] - 4s 3ms/step - loss: 1.6727 - accuracy: 0.7912 - val_loss: 1.6693 - val_accuracy: 0.7940\n",
            "Epoch 15/20\n",
            "1407/1407 [==============================] - 4s 3ms/step - loss: 1.6683 - accuracy: 0.7949 - val_loss: 1.6952 - val_accuracy: 0.7655\n",
            "Epoch 16/20\n",
            "1407/1407 [==============================] - 4s 3ms/step - loss: 1.6651 - accuracy: 0.7989 - val_loss: 1.6607 - val_accuracy: 0.8024\n",
            "Epoch 17/20\n",
            "1407/1407 [==============================] - 4s 3ms/step - loss: 1.6625 - accuracy: 0.8002 - val_loss: 1.6674 - val_accuracy: 0.7941\n",
            "Epoch 18/20\n",
            "1407/1407 [==============================] - 5s 3ms/step - loss: 1.6592 - accuracy: 0.8041 - val_loss: 1.6512 - val_accuracy: 0.8116\n",
            "Epoch 19/20\n",
            "1407/1407 [==============================] - 4s 3ms/step - loss: 1.6565 - accuracy: 0.8063 - val_loss: 1.6506 - val_accuracy: 0.8130\n",
            "Epoch 20/20\n",
            "1407/1407 [==============================] - 4s 3ms/step - loss: 1.6542 - accuracy: 0.8085 - val_loss: 1.6615 - val_accuracy: 0.8020\n"
          ],
          "name": "stdout"
        }
      ]
    },
    {
      "cell_type": "code",
      "metadata": {
        "id": "rnH8mDVXscy_",
        "colab_type": "code",
        "colab": {
          "base_uri": "https://localhost:8080/",
          "height": 34
        },
        "outputId": "f19af1ab-98ae-4824-bc1d-9fa773c68fcd"
      },
      "source": [
        "test_loss_CNN_SGD, test_acc_CNN_SGD = model_CNN.evaluate(test_images,  test_labels, verbose=2)"
      ],
      "execution_count": 54,
      "outputs": [
        {
          "output_type": "stream",
          "text": [
            "313/313 - 1s - loss: 1.6703 - accuracy: 0.7929\n"
          ],
          "name": "stdout"
        }
      ]
    },
    {
      "cell_type": "markdown",
      "metadata": {
        "id": "g3CQ-F_dskRf",
        "colab_type": "text"
      },
      "source": [
        "### 2.2 Training with Nadam"
      ]
    },
    {
      "cell_type": "code",
      "metadata": {
        "id": "FNjx1Sgnr1EU",
        "colab_type": "code",
        "colab": {
          "base_uri": "https://localhost:8080/",
          "height": 689
        },
        "outputId": "14148d78-a1b2-4263-da36-2b9aaacef3cc"
      },
      "source": [
        "model_CNN.compile(optimizer='Nadam',\n",
        "              loss=tf.keras.losses.SparseCategoricalCrossentropy(from_logits=True),\n",
        "              metrics=['accuracy'])\n",
        "\n",
        "history_Nadam_CNN = model_CNN.fit(train_images, train_labels, epochs=20, validation_split=0.25)"
      ],
      "execution_count": 55,
      "outputs": [
        {
          "output_type": "stream",
          "text": [
            "Epoch 1/20\n",
            "1407/1407 [==============================] - 6s 5ms/step - loss: 1.6745 - accuracy: 0.7870 - val_loss: 1.6511 - val_accuracy: 0.8096\n",
            "Epoch 2/20\n",
            "1407/1407 [==============================] - 7s 5ms/step - loss: 1.6489 - accuracy: 0.8124 - val_loss: 1.6455 - val_accuracy: 0.8165\n",
            "Epoch 3/20\n",
            "1407/1407 [==============================] - 6s 5ms/step - loss: 1.6335 - accuracy: 0.8281 - val_loss: 1.6474 - val_accuracy: 0.8148\n",
            "Epoch 4/20\n",
            "1407/1407 [==============================] - 6s 5ms/step - loss: 1.6222 - accuracy: 0.8398 - val_loss: 1.6334 - val_accuracy: 0.8287\n",
            "Epoch 5/20\n",
            "1407/1407 [==============================] - 6s 4ms/step - loss: 1.6108 - accuracy: 0.8505 - val_loss: 1.6133 - val_accuracy: 0.8483\n",
            "Epoch 6/20\n",
            "1407/1407 [==============================] - 6s 4ms/step - loss: 1.6026 - accuracy: 0.8591 - val_loss: 1.6140 - val_accuracy: 0.8471\n",
            "Epoch 7/20\n",
            "1407/1407 [==============================] - 6s 5ms/step - loss: 1.5996 - accuracy: 0.8615 - val_loss: 1.5993 - val_accuracy: 0.8615\n",
            "Epoch 8/20\n",
            "1407/1407 [==============================] - 6s 4ms/step - loss: 1.5947 - accuracy: 0.8662 - val_loss: 1.5952 - val_accuracy: 0.8659\n",
            "Epoch 9/20\n",
            "1407/1407 [==============================] - 6s 4ms/step - loss: 1.5903 - accuracy: 0.8705 - val_loss: 1.6033 - val_accuracy: 0.8590\n",
            "Epoch 10/20\n",
            "1407/1407 [==============================] - 7s 5ms/step - loss: 1.5873 - accuracy: 0.8738 - val_loss: 1.5946 - val_accuracy: 0.8665\n",
            "Epoch 11/20\n",
            "1407/1407 [==============================] - 6s 4ms/step - loss: 1.5849 - accuracy: 0.8760 - val_loss: 1.5952 - val_accuracy: 0.8653\n",
            "Epoch 12/20\n",
            "1407/1407 [==============================] - 6s 4ms/step - loss: 1.5818 - accuracy: 0.8793 - val_loss: 1.5904 - val_accuracy: 0.8704\n",
            "Epoch 13/20\n",
            "1407/1407 [==============================] - 6s 5ms/step - loss: 1.5786 - accuracy: 0.8827 - val_loss: 1.5872 - val_accuracy: 0.8731\n",
            "Epoch 14/20\n",
            "1407/1407 [==============================] - 6s 4ms/step - loss: 1.5761 - accuracy: 0.8847 - val_loss: 1.5857 - val_accuracy: 0.8749\n",
            "Epoch 15/20\n",
            "1407/1407 [==============================] - 6s 4ms/step - loss: 1.5732 - accuracy: 0.8876 - val_loss: 1.5850 - val_accuracy: 0.8757\n",
            "Epoch 16/20\n",
            "1407/1407 [==============================] - 6s 4ms/step - loss: 1.5708 - accuracy: 0.8901 - val_loss: 1.5804 - val_accuracy: 0.8797\n",
            "Epoch 17/20\n",
            "1407/1407 [==============================] - 6s 4ms/step - loss: 1.5685 - accuracy: 0.8925 - val_loss: 1.5848 - val_accuracy: 0.8763\n",
            "Epoch 18/20\n",
            "1407/1407 [==============================] - 6s 4ms/step - loss: 1.5664 - accuracy: 0.8944 - val_loss: 1.5830 - val_accuracy: 0.8774\n",
            "Epoch 19/20\n",
            "1407/1407 [==============================] - 6s 4ms/step - loss: 1.5648 - accuracy: 0.8963 - val_loss: 1.5818 - val_accuracy: 0.8788\n",
            "Epoch 20/20\n",
            "1407/1407 [==============================] - 6s 4ms/step - loss: 1.5621 - accuracy: 0.8986 - val_loss: 1.5925 - val_accuracy: 0.8681\n"
          ],
          "name": "stdout"
        }
      ]
    },
    {
      "cell_type": "code",
      "metadata": {
        "id": "irCbTPw2st2C",
        "colab_type": "code",
        "colab": {
          "base_uri": "https://localhost:8080/",
          "height": 34
        },
        "outputId": "47d9b6ad-312e-4cac-e225-be619172f1db"
      },
      "source": [
        "test_loss_CNN_Nadam, test_acc_CNN_Nadam = model_CNN.evaluate(test_images,  test_labels, verbose=2)"
      ],
      "execution_count": 56,
      "outputs": [
        {
          "output_type": "stream",
          "text": [
            "313/313 - 1s - loss: 1.5981 - accuracy: 0.8627\n"
          ],
          "name": "stdout"
        }
      ]
    },
    {
      "cell_type": "markdown",
      "metadata": {
        "id": "v1OqyZl5tHEJ",
        "colab_type": "text"
      },
      "source": [
        "### 2.3 Performance Compare with SGD & Nadam"
      ]
    },
    {
      "cell_type": "code",
      "metadata": {
        "id": "5SjHo2dotKu4",
        "colab_type": "code",
        "colab": {
          "base_uri": "https://localhost:8080/",
          "height": 84
        },
        "outputId": "b5fea3ee-542d-4584-a1e2-578b3469c664"
      },
      "source": [
        "print('\\nTest accuracy of SGD:', test_acc_CNN_SGD)\n",
        "print('\\nTest accuracy of Nadam:', test_acc_CNN_Nadam)"
      ],
      "execution_count": 57,
      "outputs": [
        {
          "output_type": "stream",
          "text": [
            "\n",
            "Test accuracy of SGD: 0.792900025844574\n",
            "\n",
            "Test accuracy of Nadam: 0.8626999855041504\n"
          ],
          "name": "stdout"
        }
      ]
    },
    {
      "cell_type": "code",
      "metadata": {
        "id": "3mnQ3O_9tQUI",
        "colab_type": "code",
        "colab": {
          "base_uri": "https://localhost:8080/",
          "height": 523
        },
        "outputId": "d2daaadf-ea2d-4608-d8c0-53633b6ad36b"
      },
      "source": [
        "plt.style.use('seaborn')\n",
        "plt.figure(figsize = (16,8))\n",
        "plt.plot(history_SGD_CNN.history['val_accuracy'])\n",
        "plt.plot(history_Nadam_CNN.history['val_accuracy'])\n",
        "plt.title('Accuracy Compare with SGD & Nadam',fontsize=20)\n",
        "plt.ylabel('Loss',fontsize=16)\n",
        "plt.xlabel('Epoch',fontsize=16)\n",
        "plt.legend(['Validation_accuracy_SGD','Validation_accuracy_Nadam'], loc='lower right',fontsize=16)\n",
        "plt.show()"
      ],
      "execution_count": 68,
      "outputs": [
        {
          "output_type": "display_data",
          "data": {
            "image/png": "[encoded data removed]",
            "text/plain": [
              "<Figure size 1152x576 with 1 Axes>"
            ]
          },
          "metadata": {
            "tags": []
          }
        }
      ]
    },
    {
      "cell_type": "markdown",
      "metadata": {
        "id": "HyCKidpltW9l",
        "colab_type": "text"
      },
      "source": [
        "## 結論: CNN training with SGD & Nadam\n",
        "由上圖得知在訓練Convolution Neural Network, 採用Nesterov Accelerated Gradient(Nadam) 比起 Stochastic Gradient Descent(SGD), 在收斂方面更具有優勢:\n",
        "* Nadam 在一開始時的準確度就比SGD來的高 (0.81 vs 0.21), \n",
        "* 在經過20 Epoch訓練之後, Nadam的準確度也比SGD來的高 (0.87 vs 0.80)\n",
        "* 最終的測試準確度, Nadam也比SGD來的高 (**0.8627** vs **0.7929**)"
      ]
    }
  ]
}