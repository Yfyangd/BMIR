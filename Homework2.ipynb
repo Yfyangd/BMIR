{
  "nbformat": 4,
  "nbformat_minor": 0,
  "metadata": {
    "colab": {
      "name": "Homework2.ipynb",
      "provenance": [],
      "private_outputs": true,
      "collapsed_sections": [
        "GejDT-HnBTW_",
        "CjhOqB8FB3R_",
        "7Hy_Ck2qBlG2",
        "SHEr08q7Dw1v",
        "vGWy6kG1Fi7A",
        "qEhjvnQTFqff",
        "exUnoZasHrba",
        "n4ia_v-eInUr",
        "uJax_0uccZC0",
        "GSf0_i6jhpdv"
      ],
      "toc_visible": true,
      "include_colab_link": true
    },
    "kernelspec": {
      "display_name": "Python 3",
      "language": "python",
      "name": "python3"
    },
    "language_info": {
      "codemirror_mode": {
        "name": "ipython",
        "version": 3
      },
      "file_extension": ".py",
      "mimetype": "text/x-python",
      "name": "python",
      "nbconvert_exporter": "python",
      "pygments_lexer": "ipython3",
      "version": "3.7.7"
    },
    "accelerator": "GPU"
  },
  "cells": [
    {
      "cell_type": "markdown",
      "metadata": {
        "id": "view-in-github",
        "colab_type": "text"
      },
      "source": [
        "<a href=\"https://colab.research.google.com/github/Yfyangd/BMIR/blob/master/Homework2.ipynb\" target=\"_parent\"><img src=\"https://colab.research.google.com/assets/colab-badge.svg\" alt=\"Open In Colab\"/></a>"
      ]
    },
    {
      "cell_type": "markdown",
      "metadata": {
        "id": "GejDT-HnBTW_",
        "colab_type": "text"
      },
      "source": [
        "## BMIR Homework-2 (108003817 楊元福)"
      ]
    },
    {
      "cell_type": "code",
      "metadata": {
        "colab_type": "code",
        "id": "iAve6DCL4JH4",
        "colab": {}
      },
      "source": [
        "import tensorflow as tf\n",
        "\n",
        "from tensorflow.keras import datasets, layers, models\n",
        "import matplotlib.pyplot as plt"
      ],
      "execution_count": 0,
      "outputs": []
    },
    {
      "cell_type": "code",
      "metadata": {
        "colab_type": "code",
        "id": "JWoEqyMuXFF4",
        "colab": {}
      },
      "source": [
        "(train_images, train_labels), (test_images, test_labels) = datasets.cifar10.load_data()\n",
        "\n",
        "# Normalize pixel values to be between 0 and 1\n",
        "train_images, test_images = train_images / 255.0, test_images / 255.0"
      ],
      "execution_count": 0,
      "outputs": []
    },
    {
      "cell_type": "markdown",
      "metadata": {
        "id": "CjhOqB8FB3R_",
        "colab_type": "text"
      },
      "source": [
        "## Original Model Performance"
      ]
    },
    {
      "cell_type": "code",
      "metadata": {
        "colab_type": "code",
        "id": "L9YmGQBQPrdn",
        "colab": {}
      },
      "source": [
        "model = models.Sequential()\n",
        "model.add(layers.Conv2D(32, (3, 3), activation='relu', input_shape=(32, 32, 3)))\n",
        "model.add(layers.MaxPooling2D((2, 2)))\n",
        "model.add(layers.Conv2D(64, (3, 3), activation='relu'))\n",
        "model.add(layers.MaxPooling2D((2, 2)))\n",
        "model.add(layers.Conv2D(64, (3, 3), activation='relu'))\n",
        "model.add(layers.Flatten())\n",
        "model.add(layers.Dense(64, activation='relu'))\n",
        "model.add(layers.Dense(10))"
      ],
      "execution_count": 0,
      "outputs": []
    },
    {
      "cell_type": "code",
      "metadata": {
        "id": "-_IGBc7SB9nu",
        "colab_type": "code",
        "colab": {}
      },
      "source": [
        "model.compile(optimizer='adam',\n",
        "              loss=tf.keras.losses.SparseCategoricalCrossentropy(from_logits=True),\n",
        "              metrics=['accuracy'])\n",
        "\n",
        "history = model.fit(train_images, train_labels, epochs=10, \n",
        "                    validation_data=(test_images, test_labels))"
      ],
      "execution_count": 0,
      "outputs": []
    },
    {
      "cell_type": "code",
      "metadata": {
        "id": "inPTTHqhB9rX",
        "colab_type": "code",
        "colab": {}
      },
      "source": [
        "test_loss, test_acc = model.evaluate(test_images,  test_labels, verbose=2)\n",
        "print(\"Original test accuracy: \", test_acc)"
      ],
      "execution_count": 0,
      "outputs": []
    },
    {
      "cell_type": "markdown",
      "metadata": {
        "id": "JdifqsZ3Jm87",
        "colab_type": "text"
      },
      "source": [
        "## Original model performance: the train accuracy is **0.7795**, the validation accuracy is **0.7070**, the test accuracy is **0.7070** "
      ]
    },
    {
      "cell_type": "markdown",
      "metadata": {
        "colab_type": "text",
        "id": "Oewp-wYg31t9"
      },
      "source": [
        "## Part 1:\n",
        "During the model construction, we start with a sequential model using convolution neural networks and max pooling:\n",
        "1. model = models.Sequential()\n",
        "2. model.add(layers.Conv2D(32, (3, 3), activation='relu',\n",
        "input_shape=(32, 32, 3)))\n",
        "3. model.add(layers.MaxPooling2D((2, 2)))\n",
        "4. model.add(layers.Conv2D(64, (3, 3),\n",
        "activation='relu'))\n",
        "5. model.add(layers.MaxPooling2D((2, 2)))\n",
        "6. model.add(layers.Conv2D(64, (3, 3),\n",
        "activation='relu'))"
      ]
    },
    {
      "cell_type": "markdown",
      "metadata": {
        "id": "7Hy_Ck2qBlG2",
        "colab_type": "text"
      },
      "source": [
        "## a. Change the mask size to (5, 5) in line 2 and find the accuracy"
      ]
    },
    {
      "cell_type": "code",
      "metadata": {
        "id": "r3Lsg4zCDN_v",
        "colab_type": "code",
        "colab": {}
      },
      "source": [
        "model = models.Sequential()\n",
        "model.add(layers.Conv2D(32, (5, 5), activation='relu', input_shape=(32, 32, 3))) # <= change here !!\n",
        "model.add(layers.MaxPooling2D((2, 2)))\n",
        "model.add(layers.Conv2D(64, (3, 3), activation='relu'))\n",
        "model.add(layers.MaxPooling2D((2, 2)))\n",
        "model.add(layers.Conv2D(64, (3, 3), activation='relu'))\n",
        "model.add(layers.Flatten())\n",
        "model.add(layers.Dense(64, activation='relu'))\n",
        "model.add(layers.Dense(10))\n",
        "\n",
        "model.compile(optimizer='adam',\n",
        "              loss=tf.keras.losses.SparseCategoricalCrossentropy(from_logits=True),\n",
        "              metrics=['accuracy'])\n",
        "\n",
        "history = model.fit(train_images, train_labels, epochs=10, \n",
        "                    validation_data=(test_images, test_labels))"
      ],
      "execution_count": 0,
      "outputs": []
    },
    {
      "cell_type": "code",
      "metadata": {
        "id": "H2QmmQA_Daxg",
        "colab_type": "code",
        "colab": {}
      },
      "source": [
        "test_loss, test_acc = model.evaluate(test_images,  test_labels, verbose=2)\n",
        "print(\"Part_1_a: test accuracy: \", test_acc)"
      ],
      "execution_count": 0,
      "outputs": []
    },
    {
      "cell_type": "markdown",
      "metadata": {
        "id": "1x0oRKlgEEdR",
        "colab_type": "text"
      },
      "source": [
        "## Answer of Part_1_a: \n",
        "* 更改Line2 mask size (5,5) 之後的測試準確率為**0.7229**, 高於與原先model的測試準確率**0.7070**"
      ]
    },
    {
      "cell_type": "markdown",
      "metadata": {
        "id": "SHEr08q7Dw1v",
        "colab_type": "text"
      },
      "source": [
        "## b. Change the channel size from 64 down to 32 in line 4 and find accuracy."
      ]
    },
    {
      "cell_type": "code",
      "metadata": {
        "id": "opdcZvVQE0_K",
        "colab_type": "code",
        "colab": {}
      },
      "source": [
        "model = models.Sequential()\n",
        "model.add(layers.Conv2D(32, (3, 3), activation='relu', input_shape=(32, 32, 3)))\n",
        "model.add(layers.MaxPooling2D((2, 2)))\n",
        "model.add(layers.Conv2D(32, (3, 3), activation='relu')) # <= change here !!\n",
        "model.add(layers.MaxPooling2D((2, 2)))\n",
        "model.add(layers.Conv2D(64, (3, 3), activation='relu'))\n",
        "model.add(layers.Flatten())\n",
        "model.add(layers.Dense(64, activation='relu'))\n",
        "model.add(layers.Dense(10))\n",
        "\n",
        "model.compile(optimizer='adam',\n",
        "              loss=tf.keras.losses.SparseCategoricalCrossentropy(from_logits=True),\n",
        "              metrics=['accuracy'])\n",
        "\n",
        "history = model.fit(train_images, train_labels, epochs=10, \n",
        "                    validation_data=(test_images, test_labels))"
      ],
      "execution_count": 0,
      "outputs": []
    },
    {
      "cell_type": "code",
      "metadata": {
        "id": "Gbf4yuUvE1KQ",
        "colab_type": "code",
        "colab": {}
      },
      "source": [
        "test_loss, test_acc = model.evaluate(test_images,  test_labels, verbose=2)\n",
        "print(\"Part_1_b: test accuracy: \", test_acc)"
      ],
      "execution_count": 0,
      "outputs": []
    },
    {
      "cell_type": "markdown",
      "metadata": {
        "id": "KKE1Cb8UFG8g",
        "colab_type": "text"
      },
      "source": [
        "## Answer of Part_1_b: \n",
        "* 更改Line4 channel size 32 之後的測試準確率為**0.6959**, 低於與原先model的測試準確率**0.7070**"
      ]
    },
    {
      "cell_type": "markdown",
      "metadata": {
        "id": "vGWy6kG1Fi7A",
        "colab_type": "text"
      },
      "source": [
        "## c. Change the channel size from 64 down to 32 in line 6 and find accuracy"
      ]
    },
    {
      "cell_type": "code",
      "metadata": {
        "id": "k5s1F6ZwFqL1",
        "colab_type": "code",
        "colab": {}
      },
      "source": [
        "model = models.Sequential()\n",
        "model.add(layers.Conv2D(32, (3, 3), activation='relu', input_shape=(32, 32, 3)))\n",
        "model.add(layers.MaxPooling2D((2, 2)))\n",
        "model.add(layers.Conv2D(64, (3, 3), activation='relu'))\n",
        "model.add(layers.MaxPooling2D((2, 2)))\n",
        "model.add(layers.Conv2D(32, (3, 3), activation='relu')) # <= change here !!\n",
        "model.add(layers.Flatten())\n",
        "model.add(layers.Dense(64, activation='relu'))\n",
        "model.add(layers.Dense(10))\n",
        "\n",
        "model.compile(optimizer='adam',\n",
        "              loss=tf.keras.losses.SparseCategoricalCrossentropy(from_logits=True),\n",
        "              metrics=['accuracy'])\n",
        "\n",
        "history = model.fit(train_images, train_labels, epochs=10, \n",
        "                    validation_data=(test_images, test_labels))"
      ],
      "execution_count": 0,
      "outputs": []
    },
    {
      "cell_type": "code",
      "metadata": {
        "id": "h3sdeZ5KFqXI",
        "colab_type": "code",
        "colab": {}
      },
      "source": [
        "test_loss, test_acc = model.evaluate(test_images,  test_labels, verbose=2)\n",
        "print(\"Part_1_c: test accuracy: \", test_acc)"
      ],
      "execution_count": 0,
      "outputs": []
    },
    {
      "cell_type": "markdown",
      "metadata": {
        "id": "mWthK47QGkqo",
        "colab_type": "text"
      },
      "source": [
        "## Answer of Part_1_c: \n",
        "* 更改Line6 channel size 32 之後的準確率為**0.7046**, 與原先model的測試準確率**0.7070** 相似(略低)"
      ]
    },
    {
      "cell_type": "markdown",
      "metadata": {
        "id": "qEhjvnQTFqff",
        "colab_type": "text"
      },
      "source": [
        "## d. Delete lines 5 and 6 (i.e., we are using only two convolutional layers), and find accuracy."
      ]
    },
    {
      "cell_type": "code",
      "metadata": {
        "id": "rwo4vreKGZNj",
        "colab_type": "code",
        "colab": {}
      },
      "source": [
        "model = models.Sequential()\n",
        "model.add(layers.Conv2D(32, (3, 3), activation='relu', input_shape=(32, 32, 3)))\n",
        "model.add(layers.MaxPooling2D((2, 2)))\n",
        "model.add(layers.Conv2D(64, (3, 3), activation='relu'))\n",
        "# model.add(layers.MaxPooling2D((2, 2))) # <= change here !!\n",
        "# model.add(layers.Conv2D(64, (3, 3), activation='relu')) # <= change here !!\n",
        "model.add(layers.Flatten())\n",
        "model.add(layers.Dense(64, activation='relu'))\n",
        "model.add(layers.Dense(10))\n",
        "\n",
        "model.compile(optimizer='adam',\n",
        "              loss=tf.keras.losses.SparseCategoricalCrossentropy(from_logits=True),\n",
        "              metrics=['accuracy'])\n",
        "\n",
        "history = model.fit(train_images, train_labels, epochs=10, \n",
        "                    validation_data=(test_images, test_labels))"
      ],
      "execution_count": 0,
      "outputs": []
    },
    {
      "cell_type": "code",
      "metadata": {
        "id": "0Q6Gss1PGZQ5",
        "colab_type": "code",
        "colab": {}
      },
      "source": [
        "test_loss, test_acc = model.evaluate(test_images,  test_labels, verbose=2)\n",
        "print(\"Part_1_d: test accuracy: \", test_acc)"
      ],
      "execution_count": 0,
      "outputs": []
    },
    {
      "cell_type": "markdown",
      "metadata": {
        "id": "4C6BGAoYGZfg",
        "colab_type": "text"
      },
      "source": [
        "## Answer of Part_1_d: \n",
        "* 刪除Line5與Line6之後的準確率為**0.6896**, 低於與原先model的測試準確率**0.7070**"
      ]
    },
    {
      "cell_type": "markdown",
      "metadata": {
        "id": "C0WLtpP2G5T5",
        "colab_type": "text"
      },
      "source": [
        "## Part 2:\n",
        "For the second half of the model, we use flattening layer, one hidden layer, and one output layer with full connections:\n",
        "7. model.add(layers.Flatten())\n",
        "8. model.add(layers.Dense(64, activation='relu'))\n",
        "9. model.add(layers.Dense(10))\n"
      ]
    },
    {
      "cell_type": "markdown",
      "metadata": {
        "id": "exUnoZasHrba",
        "colab_type": "text"
      },
      "source": [
        "## e. Change the node number in line 8 to values 128 and 32 and compare the accuracy."
      ]
    },
    {
      "cell_type": "code",
      "metadata": {
        "id": "e0Z7MK--G6Iv",
        "colab_type": "code",
        "colab": {}
      },
      "source": [
        "model = models.Sequential()\n",
        "model.add(layers.Conv2D(32, (3, 3), activation='relu', input_shape=(32, 32, 3)))\n",
        "model.add(layers.MaxPooling2D((2, 2)))\n",
        "model.add(layers.Conv2D(64, (3, 3), activation='relu'))\n",
        "model.add(layers.MaxPooling2D((2, 2)))\n",
        "model.add(layers.Conv2D(64, (3, 3), activation='relu'))\n",
        "model.add(layers.Flatten())\n",
        "model.add(layers.Dense(128, activation='relu')) # <= change here !!\n",
        "model.add(layers.Dense(10))\n",
        "\n",
        "model.compile(optimizer='adam',\n",
        "              loss=tf.keras.losses.SparseCategoricalCrossentropy(from_logits=True),\n",
        "              metrics=['accuracy'])\n",
        "\n",
        "history = model.fit(train_images, train_labels, epochs=10, \n",
        "                    validation_data=(test_images, test_labels))"
      ],
      "execution_count": 0,
      "outputs": []
    },
    {
      "cell_type": "code",
      "metadata": {
        "id": "XbYppZomG6MB",
        "colab_type": "code",
        "colab": {}
      },
      "source": [
        "test_loss, test_acc = model.evaluate(test_images,  test_labels, verbose=2)\n",
        "print(\"Part_2_e_128: test accuracy: \", test_acc)"
      ],
      "execution_count": 0,
      "outputs": []
    },
    {
      "cell_type": "code",
      "metadata": {
        "id": "Pql_CTAyIojR",
        "colab_type": "code",
        "colab": {}
      },
      "source": [
        "model = models.Sequential()\n",
        "model.add(layers.Conv2D(32, (3, 3), activation='relu', input_shape=(32, 32, 3)))\n",
        "model.add(layers.MaxPooling2D((2, 2)))\n",
        "model.add(layers.Conv2D(64, (3, 3), activation='relu'))\n",
        "model.add(layers.MaxPooling2D((2, 2)))\n",
        "model.add(layers.Conv2D(64, (3, 3), activation='relu'))\n",
        "model.add(layers.Flatten())\n",
        "model.add(layers.Dense(32, activation='relu')) # <= change here !!\n",
        "model.add(layers.Dense(10))\n",
        "\n",
        "model.compile(optimizer='adam',\n",
        "              loss=tf.keras.losses.SparseCategoricalCrossentropy(from_logits=True),\n",
        "              metrics=['accuracy'])\n",
        "\n",
        "history = model.fit(train_images, train_labels, epochs=10, \n",
        "                    validation_data=(test_images, test_labels))"
      ],
      "execution_count": 0,
      "outputs": []
    },
    {
      "cell_type": "code",
      "metadata": {
        "id": "buE6OiS3Io0B",
        "colab_type": "code",
        "colab": {}
      },
      "source": [
        "test_loss, test_acc = model.evaluate(test_images,  test_labels, verbose=2)\n",
        "print(\"Part_2_e_32: test accuracy: \", test_acc)"
      ],
      "execution_count": 0,
      "outputs": []
    },
    {
      "cell_type": "markdown",
      "metadata": {
        "id": "g9-ibmZWIv2G",
        "colab_type": "text"
      },
      "source": [
        "## Answer of Part_2_e: \n",
        "* 更改Line8 node數為128之後的測試準確率為**0.7173**, 高於與原先model的測試準確率**0.7070**\n",
        "* 更改Line8 node數為32之後的測試準確率為**0.7079**, 高於與原先model的測試準確率**0.7070**\n",
        "* 看起來在dense layer的節點增加, 準確率會隨之提高一些\n",
        "* Active learning, 由A.I.主動參與學習過程與model制定, 有機會制定更好的節點數量"
      ]
    },
    {
      "cell_type": "markdown",
      "metadata": {
        "id": "n4ia_v-eInUr",
        "colab_type": "text"
      },
      "source": [
        "## f. Please add another hidden layer with node number > 64 between line 7 and 8 and compare the accuracy."
      ]
    },
    {
      "cell_type": "code",
      "metadata": {
        "id": "7BS8hTSILbWb",
        "colab_type": "code",
        "colab": {}
      },
      "source": [
        "model = models.Sequential()\n",
        "model.add(layers.Conv2D(32, (3, 3), activation='relu', input_shape=(32, 32, 3)))\n",
        "model.add(layers.MaxPooling2D((2, 2)))\n",
        "model.add(layers.Conv2D(64, (3, 3), activation='relu'))\n",
        "model.add(layers.MaxPooling2D((2, 2)))\n",
        "model.add(layers.Conv2D(64, (3, 3), activation='relu'))\n",
        "model.add(layers.Flatten())\n",
        "model.add(layers.Dense(128, activation='relu'))\n",
        "model.add(layers.Dense(64, activation='relu'))\n",
        "model.add(layers.Dense(10))\n",
        "\n",
        "model.compile(optimizer='adam',\n",
        "              loss=tf.keras.losses.SparseCategoricalCrossentropy(from_logits=True),\n",
        "              metrics=['accuracy'])\n",
        "\n",
        "history = model.fit(train_images, train_labels, epochs=10, \n",
        "                    validation_data=(test_images, test_labels))"
      ],
      "execution_count": 0,
      "outputs": []
    },
    {
      "cell_type": "code",
      "metadata": {
        "id": "w-K-0iApLbZR",
        "colab_type": "code",
        "colab": {}
      },
      "source": [
        "test_loss, test_acc = model.evaluate(test_images,  test_labels, verbose=2)\n",
        "print(\"Part_2_f: test accuracy: \", test_acc)"
      ],
      "execution_count": 0,
      "outputs": []
    },
    {
      "cell_type": "markdown",
      "metadata": {
        "id": "ny4tvNx0Nmxr",
        "colab_type": "text"
      },
      "source": [
        "## Answer of Part_2_e: \n",
        "* 增加1層dense layer(node=128)之後的測試測試準確率為**0.7009**, 比起原先model的測試準確率**0.7070**相似(略低)\n",
        "* 準確度沒有比預期高的原因, 可能是之前convolution layer的特徵提取還沒有足夠後面給neural network 學習, 改成較深的網路如Resnet, 應該會大幅提高準確率."
      ]
    },
    {
      "cell_type": "markdown",
      "metadata": {
        "id": "t_EYSwDpbw2A",
        "colab_type": "text"
      },
      "source": [
        "## Part 3:\n",
        "Please revise the original code so that it can classify either the mnist fashion data or digit data. And compare the performance of this cnn model versus the traditional neural network of HW1."
      ]
    },
    {
      "cell_type": "markdown",
      "metadata": {
        "id": "uJax_0uccZC0",
        "colab_type": "text"
      },
      "source": [
        "## Fashion_mnist"
      ]
    },
    {
      "cell_type": "code",
      "metadata": {
        "id": "FgEenT2pbxMX",
        "colab_type": "code",
        "colab": {}
      },
      "source": [
        "from tensorflow import keras\n",
        "fashion_mnist = keras.datasets.fashion_mnist\n",
        "(train_images, train_labels), (test_images, test_labels) = fashion_mnist.load_data()\n",
        "class_names = ['T-shirt/top', 'Trouser', 'Pullover', 'Dress', 'Coat','Sandal', 'Shirt', 'Sneaker', 'Bag', 'Ankle boot']\n",
        "train_images = train_images.astype('float32') / 255\n",
        "train_images = train_images.reshape(train_images.shape[0], 28, 28, 1)\n",
        "test_images = test_images.astype('float32') / 255\n",
        "test_images = test_images.reshape(test_images.shape[0], 28, 28, 1)\n",
        "train_labels = train_labels.reshape(train_labels.shape[0], 1)\n",
        "test_labels = test_labels.reshape(test_labels.shape[0], 1)"
      ],
      "execution_count": 0,
      "outputs": []
    },
    {
      "cell_type": "code",
      "metadata": {
        "id": "_FiB9PETbxSn",
        "colab_type": "code",
        "colab": {}
      },
      "source": [
        "model = models.Sequential()\n",
        "model.add(layers.Conv2D(32, (3, 3), activation='relu', input_shape=(28, 28, 1)))\n",
        "model.add(layers.MaxPooling2D((2, 2)))\n",
        "model.add(layers.Conv2D(64, (3, 3), activation='relu'))\n",
        "model.add(layers.MaxPooling2D((2, 2)))\n",
        "model.add(layers.Conv2D(64, (3, 3), activation='relu'))\n",
        "model.add(layers.Flatten())\n",
        "model.add(layers.Dense(128, activation='relu'))\n",
        "model.add(layers.Dense(64, activation='relu'))\n",
        "model.add(layers.Dense(10))\n",
        "\n",
        "model.compile(optimizer='adam',\n",
        "              loss=tf.keras.losses.SparseCategoricalCrossentropy(from_logits=True),\n",
        "              metrics=['accuracy'])\n",
        "\n",
        "history = model.fit(train_images, train_labels, epochs=10, \n",
        "                    validation_data=(test_images, test_labels))"
      ],
      "execution_count": 0,
      "outputs": []
    },
    {
      "cell_type": "code",
      "metadata": {
        "id": "-8Ao_pvoiEtg",
        "colab_type": "code",
        "colab": {}
      },
      "source": [
        "test_loss, test_acc = model.evaluate(test_images,  test_labels, verbose=2)\n",
        "print(\"Part_3_fashion_mist: test accuracy: \", test_acc)"
      ],
      "execution_count": 0,
      "outputs": []
    },
    {
      "cell_type": "markdown",
      "metadata": {
        "id": "PgpumUVdhoo7",
        "colab_type": "text"
      },
      "source": [
        "## Answer of Part_3_fashion_mist: \n",
        "* CNN model測試測試準確率為**0.9074**, 高於原先DNN model 的測試準確率**0.8791**, 符合預期"
      ]
    },
    {
      "cell_type": "markdown",
      "metadata": {
        "id": "GSf0_i6jhpdv",
        "colab_type": "text"
      },
      "source": [
        "## Digit data"
      ]
    },
    {
      "cell_type": "code",
      "metadata": {
        "id": "pMd1hRpYhpLQ",
        "colab_type": "code",
        "colab": {}
      },
      "source": [
        "digit_mnist = keras.datasets.mnist\n",
        "(train_images, train_labels), (test_images, test_labels) = digit_mnist.load_data()\n",
        "class_names = ['T-shirt/top', 'Trouser', 'Pullover', 'Dress', 'Coat','Sandal', 'Shirt', 'Sneaker', 'Bag', 'Ankle boot']\n",
        "train_images = train_images.astype('float32') / 255\n",
        "train_images = train_images.reshape(train_images.shape[0], 28, 28, 1)\n",
        "test_images = test_images.astype('float32') / 255\n",
        "test_images = test_images.reshape(test_images.shape[0], 28, 28, 1)\n",
        "train_labels = train_labels.reshape(train_labels.shape[0], 1)\n",
        "test_labels = test_labels.reshape(test_labels.shape[0], 1)"
      ],
      "execution_count": 0,
      "outputs": []
    },
    {
      "cell_type": "code",
      "metadata": {
        "id": "VeLr_1achpOp",
        "colab_type": "code",
        "colab": {}
      },
      "source": [
        "model = models.Sequential()\n",
        "model.add(layers.Conv2D(32, (3, 3), activation='relu', input_shape=(28, 28, 1)))\n",
        "model.add(layers.MaxPooling2D((2, 2)))\n",
        "model.add(layers.Conv2D(64, (3, 3), activation='relu'))\n",
        "model.add(layers.MaxPooling2D((2, 2)))\n",
        "model.add(layers.Conv2D(64, (3, 3), activation='relu'))\n",
        "model.add(layers.Flatten())\n",
        "model.add(layers.Dense(128, activation='relu'))\n",
        "model.add(layers.Dense(64, activation='relu'))\n",
        "model.add(layers.Dense(10))\n",
        "\n",
        "model.compile(optimizer='adam',\n",
        "              loss=tf.keras.losses.SparseCategoricalCrossentropy(from_logits=True),\n",
        "              metrics=['accuracy'])\n",
        "\n",
        "history = model.fit(train_images, train_labels, epochs=10, \n",
        "                    validation_data=(test_images, test_labels))"
      ],
      "execution_count": 0,
      "outputs": []
    },
    {
      "cell_type": "code",
      "metadata": {
        "id": "8Z3malYDizYr",
        "colab_type": "code",
        "colab": {}
      },
      "source": [
        "test_loss, test_acc = model.evaluate(test_images,  test_labels, verbose=2)\n",
        "print(\"Part_3_digit_mist: test accuracy: \", test_acc)"
      ],
      "execution_count": 0,
      "outputs": []
    },
    {
      "cell_type": "markdown",
      "metadata": {
        "id": "ewiguvClbxge",
        "colab_type": "text"
      },
      "source": [
        "## Answer of Part_3_digit_mist: \n",
        "* CNN model測試測試準確率為**0.9887**, 高於原先DNN model 的測試準確率**0.9802**, 符合預期"
      ]
    }
  ]
}