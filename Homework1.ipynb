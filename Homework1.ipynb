{
  "nbformat": 4,
  "nbformat_minor": 0,
  "metadata": {
    "colab": {
      "name": "Copy of classification.ipynb",
      "provenance": [],
      "private_outputs": true,
      "collapsed_sections": [],
      "toc_visible": true,
      "include_colab_link": true
    },
    "kernelspec": {
      "display_name": "Python 3",
      "name": "python3"
    }
  },
  "cells": [
    {
      "cell_type": "markdown",
      "metadata": {
        "id": "view-in-github",
        "colab_type": "text"
      },
      "source": [
        "<a href=\"https://colab.research.google.com/github/Yfyangd/BMIR/blob/master/Homework1.ipynb\" target=\"_parent\"><img src=\"https://colab.research.google.com/assets/colab-badge.svg\" alt=\"Open In Colab\"/></a>"
      ]
    },
    {
      "cell_type": "markdown",
      "metadata": {
        "id": "dwfm6l2Sp21x",
        "colab_type": "text"
      },
      "source": [
        "## Import Library"
      ]
    },
    {
      "cell_type": "code",
      "metadata": {
        "colab_type": "code",
        "id": "dzLKpmZICaWN",
        "colab": {}
      },
      "source": [
        "# TensorFlow and tf.keras\n",
        "import tensorflow as tf\n",
        "from tensorflow import keras\n",
        "\n",
        "# Helper libraries\n",
        "import numpy as np\n",
        "import matplotlib.pyplot as plt\n",
        "\n",
        "print(tf.__version__)"
      ],
      "execution_count": 0,
      "outputs": []
    },
    {
      "cell_type": "markdown",
      "metadata": {
        "id": "lVBrwUdRqIeo",
        "colab_type": "text"
      },
      "source": [
        "## Import Fashion_MNIST"
      ]
    },
    {
      "cell_type": "code",
      "metadata": {
        "colab_type": "code",
        "id": "7MqDQO0KCaWS",
        "colab": {}
      },
      "source": [
        "fashion_mnist = keras.datasets.fashion_mnist\n",
        "\n",
        "(train_images, train_labels), (test_images, test_labels) = fashion_mnist.load_data()"
      ],
      "execution_count": 0,
      "outputs": []
    },
    {
      "cell_type": "code",
      "metadata": {
        "colab_type": "code",
        "id": "IjnLH5S2CaWx",
        "colab": {}
      },
      "source": [
        "class_names = ['T-shirt/top', 'Trouser', 'Pullover', 'Dress', 'Coat',\n",
        "               'Sandal', 'Shirt', 'Sneaker', 'Bag', 'Ankle boot']"
      ],
      "execution_count": 0,
      "outputs": []
    },
    {
      "cell_type": "markdown",
      "metadata": {
        "colab_type": "text",
        "id": "ES6uQoLKCaWr"
      },
      "source": [
        "## Preprocess the data"
      ]
    },
    {
      "cell_type": "code",
      "metadata": {
        "colab_type": "code",
        "id": "bW5WzIPlCaWv",
        "colab": {}
      },
      "source": [
        "train_images = train_images / 255.0\n",
        "\n",
        "test_images = test_images / 255.0"
      ],
      "execution_count": 0,
      "outputs": []
    },
    {
      "cell_type": "markdown",
      "metadata": {
        "colab_type": "text",
        "id": "59veuiEZCaW4"
      },
      "source": [
        "## Build the model"
      ]
    },
    {
      "cell_type": "code",
      "metadata": {
        "colab_type": "code",
        "id": "9ODch-OFCaW4",
        "colab": {}
      },
      "source": [
        "model = keras.Sequential([\n",
        "    keras.layers.Flatten(input_shape=(28, 28)),\n",
        "    keras.layers.Dense(128, activation='relu'),\n",
        "    keras.layers.Dense(10)\n",
        "])"
      ],
      "execution_count": 0,
      "outputs": []
    },
    {
      "cell_type": "code",
      "metadata": {
        "colab_type": "code",
        "id": "Lhan11blCaW7",
        "colab": {}
      },
      "source": [
        "model.compile(optimizer='adam',\n",
        "              loss=tf.keras.losses.SparseCategoricalCrossentropy(from_logits=True),\n",
        "              metrics=['accuracy'])"
      ],
      "execution_count": 0,
      "outputs": []
    },
    {
      "cell_type": "markdown",
      "metadata": {
        "colab_type": "text",
        "id": "qKF6uW-BCaW-"
      },
      "source": [
        "## Train the model\n"
      ]
    },
    {
      "cell_type": "code",
      "metadata": {
        "colab_type": "code",
        "id": "xvwvpA64CaW_",
        "colab": {}
      },
      "source": [
        "model.fit(train_images, train_labels, epochs=10)"
      ],
      "execution_count": 0,
      "outputs": []
    },
    {
      "cell_type": "markdown",
      "metadata": {
        "colab_type": "text",
        "id": "wCpr6DGyE28h"
      },
      "source": [
        "## Evaluate accuracy\n",
        "Test accuracy of original model is **0.8791**"
      ]
    },
    {
      "cell_type": "code",
      "metadata": {
        "colab_type": "code",
        "id": "VflXLEeECaXC",
        "colab": {}
      },
      "source": [
        "test_loss, test_acc = model.evaluate(test_images,  test_labels, verbose=2)\n",
        "\n",
        "print('\\nTest accuracy:', test_acc)"
      ],
      "execution_count": 0,
      "outputs": []
    },
    {
      "cell_type": "markdown",
      "metadata": {
        "id": "oOqyDDcwsTRR",
        "colab_type": "text"
      },
      "source": [
        "## 問題(1): Change the nodes of hidden layer: 512, 256, 128, 64, 32."
      ]
    },
    {
      "cell_type": "code",
      "metadata": {
        "id": "0vhvDKCIsT0m",
        "colab_type": "code",
        "colab": {}
      },
      "source": [
        "model_1 = keras.Sequential([\n",
        "    keras.layers.Flatten(input_shape=(28, 28)),\n",
        "    keras.layers.Dense(512, activation='relu'),\n",
        "    keras.layers.Dense(256, activation='relu'),\n",
        "    keras.layers.Dense(128, activation='relu'),\n",
        "    keras.layers.Dense(64, activation='relu'),\n",
        "    keras.layers.Dense(32, activation='relu'),\n",
        "    keras.layers.Dense(10)\n",
        "])"
      ],
      "execution_count": 0,
      "outputs": []
    },
    {
      "cell_type": "code",
      "metadata": {
        "id": "1-TsXGsOsrgw",
        "colab_type": "code",
        "colab": {}
      },
      "source": [
        "model_1.compile(optimizer='adam',\n",
        "              loss=tf.keras.losses.SparseCategoricalCrossentropy(from_logits=True),\n",
        "              metrics=['accuracy'])"
      ],
      "execution_count": 0,
      "outputs": []
    },
    {
      "cell_type": "code",
      "metadata": {
        "id": "3nYxOIm_syCO",
        "colab_type": "code",
        "colab": {}
      },
      "source": [
        "model_1.fit(train_images, train_labels, epochs=10)"
      ],
      "execution_count": 0,
      "outputs": []
    },
    {
      "cell_type": "markdown",
      "metadata": {
        "id": "aaqGi55ltfam",
        "colab_type": "text"
      },
      "source": [
        "## 問題(1)回答: \n",
        "改成5層hidden layer(512, 256, 128, 64, 32)的測試準確度為 **0.8815** > 0.8791 原始model(1層hidden layer: 128). 因此看起來增加hidden layer可以微幅改善分類準確度."
      ]
    },
    {
      "cell_type": "code",
      "metadata": {
        "id": "i_FJe1Jjs5hm",
        "colab_type": "code",
        "colab": {}
      },
      "source": [
        "test_loss, test_acc = model_1.evaluate(test_images,  test_labels, verbose=2)\n",
        "\n",
        "print('\\nTest accuracy:', test_acc)"
      ],
      "execution_count": 0,
      "outputs": []
    },
    {
      "cell_type": "markdown",
      "metadata": {
        "id": "ve-cEJHfudtg",
        "colab_type": "text"
      },
      "source": [
        "## 問題(2): Change the number of hidden layers: 2 and 3. \n",
        "Please discuss how you choose the number of nodes in hidden layers. Only consider fully connected (or Dense) neural network."
      ]
    },
    {
      "cell_type": "code",
      "metadata": {
        "id": "i6WBqEUEumXG",
        "colab_type": "code",
        "colab": {}
      },
      "source": [
        "model_2_2 = keras.Sequential([\n",
        "    keras.layers.Flatten(input_shape=(28, 28)),\n",
        "    keras.layers.Dense(392, activation='relu'),\n",
        "    keras.layers.Dense(10)\n",
        "])"
      ],
      "execution_count": 0,
      "outputs": []
    },
    {
      "cell_type": "code",
      "metadata": {
        "id": "3DASJrUUvqPg",
        "colab_type": "code",
        "colab": {}
      },
      "source": [
        "model_2_3 = keras.Sequential([\n",
        "    keras.layers.Flatten(input_shape=(28, 28)),\n",
        "    keras.layers.Dense(512, activation='relu'),\n",
        "    keras.layers.Dense(128, activation='relu'),\n",
        "    keras.layers.Dense(10)\n",
        "])"
      ],
      "execution_count": 0,
      "outputs": []
    },
    {
      "cell_type": "code",
      "metadata": {
        "id": "Te740zK1v_GV",
        "colab_type": "code",
        "colab": {}
      },
      "source": [
        "model_2_2.compile(optimizer='adam',\n",
        "              loss=tf.keras.losses.SparseCategoricalCrossentropy(from_logits=True),\n",
        "              metrics=['accuracy'])\n",
        "model_2_2.fit(train_images, train_labels, epochs=10)"
      ],
      "execution_count": 0,
      "outputs": []
    },
    {
      "cell_type": "code",
      "metadata": {
        "id": "EvHaIQJ8v_Jc",
        "colab_type": "code",
        "colab": {}
      },
      "source": [
        "model_2_3.compile(optimizer='adam',\n",
        "              loss=tf.keras.losses.SparseCategoricalCrossentropy(from_logits=True),\n",
        "              metrics=['accuracy'])\n",
        "model_2_3.fit(train_images, train_labels, epochs=10)"
      ],
      "execution_count": 0,
      "outputs": []
    },
    {
      "cell_type": "markdown",
      "metadata": {
        "id": "tlOhqPRox6-3",
        "colab_type": "text"
      },
      "source": [
        "## 問題(2)回答: \n",
        "* 我設計2層dense layer的節點數為: 392 與 10, 也就是從原本平坦化之後的節點數為784降1半為392, 最後再輸出為10個種類, 準確度為**0.8816**\n",
        "* 另外在3層dense layer的節點數為: 512, 128 與 10, 準確度為 **0.8866**\n",
        "* 看起來3層的dense layer 準確度比2層略好一些"
      ]
    },
    {
      "cell_type": "code",
      "metadata": {
        "id": "0GV-ffXAwQvX",
        "colab_type": "code",
        "colab": {}
      },
      "source": [
        "test_loss, test_acc = model_2_2.evaluate(test_images,  test_labels, verbose=2)\n",
        "\n",
        "print('\\nTest accuracy:', test_acc)"
      ],
      "execution_count": 0,
      "outputs": []
    },
    {
      "cell_type": "code",
      "metadata": {
        "id": "pi7P2WR-wQy2",
        "colab_type": "code",
        "colab": {}
      },
      "source": [
        "test_loss, test_acc = model_2_3.evaluate(test_images,  test_labels, verbose=2)\n",
        "\n",
        "print('\\nTest accuracy:', test_acc)"
      ],
      "execution_count": 0,
      "outputs": []
    },
    {
      "cell_type": "markdown",
      "metadata": {
        "id": "TzkT17tPyPOd",
        "colab_type": "text"
      },
      "source": [
        "## 問題(3): Change the dataset to the MNIST database of handwritten digits and design a simple neural (not more than 5 layers including input and output layers) which can give the best accuracy according to your standard."
      ]
    },
    {
      "cell_type": "code",
      "metadata": {
        "id": "KmRJDYsewQ5G",
        "colab_type": "code",
        "colab": {}
      },
      "source": [
        "digit_mnist = keras.datasets.mnist\n",
        "(train_images, train_labels), (test_images, test_labels) = digit_mnist.load_data()"
      ],
      "execution_count": 0,
      "outputs": []
    },
    {
      "cell_type": "code",
      "metadata": {
        "id": "hnh929nByfJr",
        "colab_type": "code",
        "colab": {}
      },
      "source": [
        "train_images = train_images / 255.0\n",
        "test_images = test_images / 255.0"
      ],
      "execution_count": 0,
      "outputs": []
    },
    {
      "cell_type": "code",
      "metadata": {
        "id": "INgAGUIozAiv",
        "colab_type": "code",
        "colab": {}
      },
      "source": [
        "print(train_images.shape,test_images.shape)"
      ],
      "execution_count": 0,
      "outputs": []
    },
    {
      "cell_type": "code",
      "metadata": {
        "id": "g6vdmiIKyfM7",
        "colab_type": "code",
        "colab": {}
      },
      "source": [
        "model_3 = keras.Sequential([\n",
        "    keras.layers.Flatten(input_shape=(28, 28)),\n",
        "    keras.layers.Dense(512, activation='relu'),\n",
        "    keras.layers.Dense(256, activation='relu'),\n",
        "    keras.layers.Dense(128, activation='relu'),\n",
        "    keras.layers.Dense(10)\n",
        "])"
      ],
      "execution_count": 0,
      "outputs": []
    },
    {
      "cell_type": "code",
      "metadata": {
        "id": "mxoknalWyfQD",
        "colab_type": "code",
        "colab": {}
      },
      "source": [
        "model_3.compile(optimizer='adam',\n",
        "              loss=tf.keras.losses.SparseCategoricalCrossentropy(from_logits=True),\n",
        "              metrics=['accuracy'])\n",
        "model_3.fit(train_images, train_labels, epochs=10)"
      ],
      "execution_count": 0,
      "outputs": []
    },
    {
      "cell_type": "markdown",
      "metadata": {
        "id": "-kEsDaKtzeQd",
        "colab_type": "text"
      },
      "source": [
        "## 問題(3)回答: \n",
        "* 設計總共5層的神經網路, 分別為1層flatten layer: 28X28 to 784, 3層 dense layer: 784 to 512, 512 to 256, 256 to 128, 最後是1層output layer: 128 to 10\n",
        "* 測試準確度為 **0.9802**"
      ]
    },
    {
      "cell_type": "code",
      "metadata": {
        "id": "xEyNqaZuyfTD",
        "colab_type": "code",
        "colab": {}
      },
      "source": [
        "test_loss, test_acc = model_3.evaluate(test_images,  test_labels, verbose=2)\n",
        "\n",
        "print('\\nTest accuracy:', test_acc)"
      ],
      "execution_count": 0,
      "outputs": []
    },
    {
      "cell_type": "markdown",
      "metadata": {
        "id": "spqXDE6q3o-u",
        "colab_type": "text"
      },
      "source": [
        "##問題(3)延伸討論: 從實際值/預測值的confusion matrix來看, 數字9與7看起來是比較容易搞混的數字組合(共15次預測錯誤),可能是在手寫數字上這2個筆跡與形狀比較相似."
      ]
    },
    {
      "cell_type": "code",
      "metadata": {
        "id": "MOQLXg_w1duB",
        "colab_type": "code",
        "colab": {}
      },
      "source": [
        "import pandas as pd \n",
        "predictions = model_3.predict_classes(test_images) \n",
        "pd.crosstab(test_labels, predictions, rownames=['實際值'], colnames=['預測值'])"
      ],
      "execution_count": 0,
      "outputs": []
    }
  ]
}